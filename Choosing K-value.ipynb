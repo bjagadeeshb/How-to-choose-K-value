{
 "cells": [
  {
   "cell_type": "markdown",
   "metadata": {},
   "source": [
    "# K-means\n",
    "K-means clustering is an unsupervised learning algorithm\n",
    "The K-means clustering algorithm is used to find groups which have not been explicitly labeled in the data and to find patterns and make better decisions.. Once the algorithm has been run and the groups are defined, any new data can be easily assigned to the most relevant group."
   ]
  },
  {
   "cell_type": "markdown",
   "metadata": {},
   "source": [
    "# K-means applied in:\n",
    "\n",
    "*Customer Profiling,\n",
    "\n",
    "*market segmentation,\n",
    "\n",
    "*computer vision\n",
    "\n",
    "*Geo-statistics\n",
    "\n",
    "*Astronomy\n",
    "\n",
    "*recommendation\n",
    "\n",
    "*Document Clustering\n",
    "\n",
    "*Image Segmentation"
   ]
  },
  {
   "cell_type": "code",
   "execution_count": 1,
   "metadata": {},
   "outputs": [],
   "source": [
    "#The main objective of the K-Means algorithm is to minimize the sum of distances between the points and their respective \n",
    "#cluster centroid"
   ]
  },
  {
   "cell_type": "code",
   "execution_count": 2,
   "metadata": {},
   "outputs": [],
   "source": [
    "#import necessary libraries \n",
    "import pandas as pd\n",
    "import numpy as np\n",
    "import matplotlib.pyplot as plt\n",
    "import seaborn as sns\n",
    "\n",
    "from sklearn.cluster import KMeans\n",
    "from yellowbrick.cluster import KElbowVisualizer"
   ]
  },
  {
   "cell_type": "code",
   "execution_count": 3,
   "metadata": {},
   "outputs": [
    {
     "data": {
      "text/html": [
       "<div>\n",
       "<style scoped>\n",
       "    .dataframe tbody tr th:only-of-type {\n",
       "        vertical-align: middle;\n",
       "    }\n",
       "\n",
       "    .dataframe tbody tr th {\n",
       "        vertical-align: top;\n",
       "    }\n",
       "\n",
       "    .dataframe thead th {\n",
       "        text-align: right;\n",
       "    }\n",
       "</style>\n",
       "<table border=\"1\" class=\"dataframe\">\n",
       "  <thead>\n",
       "    <tr style=\"text-align: right;\">\n",
       "      <th></th>\n",
       "      <th>CustomerID</th>\n",
       "      <th>Genre</th>\n",
       "      <th>Age</th>\n",
       "      <th>Annual Income (k$)</th>\n",
       "      <th>Spending Score (1-100)</th>\n",
       "    </tr>\n",
       "  </thead>\n",
       "  <tbody>\n",
       "    <tr>\n",
       "      <td>0</td>\n",
       "      <td>1</td>\n",
       "      <td>Male</td>\n",
       "      <td>19</td>\n",
       "      <td>15</td>\n",
       "      <td>39</td>\n",
       "    </tr>\n",
       "    <tr>\n",
       "      <td>1</td>\n",
       "      <td>2</td>\n",
       "      <td>Male</td>\n",
       "      <td>21</td>\n",
       "      <td>15</td>\n",
       "      <td>81</td>\n",
       "    </tr>\n",
       "    <tr>\n",
       "      <td>2</td>\n",
       "      <td>3</td>\n",
       "      <td>Female</td>\n",
       "      <td>20</td>\n",
       "      <td>16</td>\n",
       "      <td>6</td>\n",
       "    </tr>\n",
       "    <tr>\n",
       "      <td>3</td>\n",
       "      <td>4</td>\n",
       "      <td>Female</td>\n",
       "      <td>23</td>\n",
       "      <td>16</td>\n",
       "      <td>77</td>\n",
       "    </tr>\n",
       "    <tr>\n",
       "      <td>4</td>\n",
       "      <td>5</td>\n",
       "      <td>Female</td>\n",
       "      <td>31</td>\n",
       "      <td>17</td>\n",
       "      <td>40</td>\n",
       "    </tr>\n",
       "  </tbody>\n",
       "</table>\n",
       "</div>"
      ],
      "text/plain": [
       "   CustomerID   Genre  Age  Annual Income (k$)  Spending Score (1-100)\n",
       "0           1    Male   19                  15                      39\n",
       "1           2    Male   21                  15                      81\n",
       "2           3  Female   20                  16                       6\n",
       "3           4  Female   23                  16                      77\n",
       "4           5  Female   31                  17                      40"
      ]
     },
     "execution_count": 3,
     "metadata": {},
     "output_type": "execute_result"
    }
   ],
   "source": [
    "data= pd.read_csv('C:/Users/jagadeesh baman/Documents/alldata/mall.csv')\n",
    "data.head()"
   ]
  },
  {
   "cell_type": "code",
   "execution_count": 4,
   "metadata": {},
   "outputs": [],
   "source": [
    "#now we need to select the value of K randomly"
   ]
  },
  {
   "cell_type": "code",
   "execution_count": 5,
   "metadata": {},
   "outputs": [],
   "source": [
    "#for simplicity take any two values, you can take whole data too\n",
    "df=data[['Annual Income (k$)','Spending Score (1-100)']]"
   ]
  },
  {
   "cell_type": "code",
   "execution_count": 6,
   "metadata": {},
   "outputs": [
    {
     "data": {
      "text/html": [
       "<div>\n",
       "<style scoped>\n",
       "    .dataframe tbody tr th:only-of-type {\n",
       "        vertical-align: middle;\n",
       "    }\n",
       "\n",
       "    .dataframe tbody tr th {\n",
       "        vertical-align: top;\n",
       "    }\n",
       "\n",
       "    .dataframe thead th {\n",
       "        text-align: right;\n",
       "    }\n",
       "</style>\n",
       "<table border=\"1\" class=\"dataframe\">\n",
       "  <thead>\n",
       "    <tr style=\"text-align: right;\">\n",
       "      <th></th>\n",
       "      <th>Annual Income (k$)</th>\n",
       "      <th>Spending Score (1-100)</th>\n",
       "    </tr>\n",
       "  </thead>\n",
       "  <tbody>\n",
       "    <tr>\n",
       "      <td>0</td>\n",
       "      <td>15</td>\n",
       "      <td>39</td>\n",
       "    </tr>\n",
       "    <tr>\n",
       "      <td>1</td>\n",
       "      <td>15</td>\n",
       "      <td>81</td>\n",
       "    </tr>\n",
       "    <tr>\n",
       "      <td>2</td>\n",
       "      <td>16</td>\n",
       "      <td>6</td>\n",
       "    </tr>\n",
       "    <tr>\n",
       "      <td>3</td>\n",
       "      <td>16</td>\n",
       "      <td>77</td>\n",
       "    </tr>\n",
       "    <tr>\n",
       "      <td>4</td>\n",
       "      <td>17</td>\n",
       "      <td>40</td>\n",
       "    </tr>\n",
       "  </tbody>\n",
       "</table>\n",
       "</div>"
      ],
      "text/plain": [
       "   Annual Income (k$)  Spending Score (1-100)\n",
       "0                  15                      39\n",
       "1                  15                      81\n",
       "2                  16                       6\n",
       "3                  16                      77\n",
       "4                  17                      40"
      ]
     },
     "execution_count": 6,
     "metadata": {},
     "output_type": "execute_result"
    }
   ],
   "source": [
    "df.head()"
   ]
  },
  {
   "cell_type": "code",
   "execution_count": 7,
   "metadata": {},
   "outputs": [],
   "source": [
    "#doing normalization\n",
    "from sklearn.preprocessing import MinMaxScaler\n",
    "sclaed=MinMaxScaler()\n",
    "X_scaled=sclaed.fit(df)\n",
    "X_scaled=sclaed.transform(df)"
   ]
  },
  {
   "cell_type": "code",
   "execution_count": 8,
   "metadata": {},
   "outputs": [
    {
     "data": {
      "text/plain": [
       "array([[0.        , 0.3877551 ],\n",
       "       [0.        , 0.81632653],\n",
       "       [0.00819672, 0.05102041],\n",
       "       [0.00819672, 0.7755102 ],\n",
       "       [0.01639344, 0.39795918]])"
      ]
     },
     "execution_count": 8,
     "metadata": {},
     "output_type": "execute_result"
    }
   ],
   "source": [
    "X_scaled[0:5]"
   ]
  },
  {
   "cell_type": "code",
   "execution_count": 9,
   "metadata": {},
   "outputs": [],
   "source": [
    "from sklearn.metrics import silhouette_score, davies_bouldin_score,v_measure_score"
   ]
  },
  {
   "cell_type": "code",
   "execution_count": 10,
   "metadata": {},
   "outputs": [],
   "source": [
    "#now going to create diffirent list for diffirent purpose"
   ]
  },
  {
   "cell_type": "code",
   "execution_count": 11,
   "metadata": {},
   "outputs": [
    {
     "name": "stdout",
     "output_type": "stream",
     "text": [
      "Score for number of cluster(s) 2: -13.993505283127977\n",
      "Silhouette score for number of cluster(s) 2: 0.3334020547986479\n",
      "Davies Bouldin score for number of cluster(s) 2: 1.1371498756416885\n",
      "Score for number of cluster(s) 3: -9.058985215159455\n",
      "Silhouette score for number of cluster(s) 3: 0.451490930953965\n",
      "Davies Bouldin score for number of cluster(s) 3: 0.8463302919900029\n",
      "Score for number of cluster(s) 4: -6.110312266413654\n",
      "Silhouette score for number of cluster(s) 4: 0.49620078746385005\n",
      "Davies Bouldin score for number of cluster(s) 4: 0.7033318894472995\n",
      "Score for number of cluster(s) 5: -3.5831179059525584\n",
      "Silhouette score for number of cluster(s) 5: 0.5594854531357838\n",
      "Davies Bouldin score for number of cluster(s) 5: 0.5678112087671997\n",
      "Score for number of cluster(s) 6: -3.1006663776847865\n",
      "Silhouette score for number of cluster(s) 6: 0.5361045104938877\n",
      "Davies Bouldin score for number of cluster(s) 6: 0.6898891791016174\n",
      "Score for number of cluster(s) 7: -2.6412299395240915\n",
      "Silhouette score for number of cluster(s) 7: 0.523974065477125\n",
      "Davies Bouldin score for number of cluster(s) 7: 0.7366524140539267\n",
      "Score for number of cluster(s) 8: -2.2188402609846727\n",
      "Silhouette score for number of cluster(s) 8: 0.429839758583326\n",
      "Davies Bouldin score for number of cluster(s) 8: 0.8258743475979236\n",
      "Score for number of cluster(s) 9: -1.8793291539680979\n",
      "Silhouette score for number of cluster(s) 9: 0.44307967336659515\n",
      "Davies Bouldin score for number of cluster(s) 9: 0.791292554632169\n",
      "Score for number of cluster(s) 10: -1.6462722536367425\n",
      "Silhouette score for number of cluster(s) 10: 0.4454491744668899\n",
      "Davies Bouldin score for number of cluster(s) 10: 0.7377991089411793\n",
      "Score for number of cluster(s) 11: -1.4511368885175449\n",
      "Silhouette score for number of cluster(s) 11: 0.44190620043365597\n",
      "Davies Bouldin score for number of cluster(s) 11: 0.7537917204518819\n"
     ]
    }
   ],
   "source": [
    "km_scores= []\n",
    "km_silhouette = []\n",
    "db_score = []\n",
    "for i in range(2,12):\n",
    "    km = KMeans(n_clusters=i, random_state=0).fit(X_scaled)\n",
    "    preds = km.predict(X_scaled)\n",
    "    \n",
    "    print(\"Score for number of cluster(s) {}: {}\".format(i,km.score(X_scaled)))\n",
    "    km_scores.append(-km.score(X_scaled))\n",
    "    \n",
    "    silhouette = silhouette_score(X_scaled,preds)\n",
    "    km_silhouette.append(silhouette)\n",
    "    print(\"Silhouette score for number of cluster(s) {}: {}\".format(i,silhouette))\n",
    "    \n",
    "    db = davies_bouldin_score(X_scaled,preds)\n",
    "    db_score.append(db)\n",
    "    print(\"Davies Bouldin score for number of cluster(s) {}: {}\".format(i,db))\n",
    "    \n",
    "    "
   ]
  },
  {
   "cell_type": "markdown",
   "metadata": {},
   "source": [
    "# elbow method"
   ]
  },
  {
   "cell_type": "markdown",
   "metadata": {},
   "source": [
    "The elbow method is used in determining the number of clusters in a data set. The method consists of plotting the explained variation as a function of the number of clusters, and picking the elbow of the curve as the number of clusters to use.\n",
    "\n",
    "The same method can be used to choose the number of parameters in other data-driven models, such as the number of principal components to describe a data set."
   ]
  },
  {
   "cell_type": "code",
   "execution_count": 12,
   "metadata": {},
   "outputs": [
    {
     "data": {
      "image/png": "[encoded data removed]",
      "text/plain": [
       "<Figure size 432x288 with 1 Axes>"
      ]
     },
     "metadata": {
      "needs_background": "light"
     },
     "output_type": "display_data"
    }
   ],
   "source": [
    "plt.title(\"The elbow method for determining number of clusters\\n\",fontsize=16)\n",
    "plt.scatter(x=[i for i in range(1,11)],y=km_scores,s=150,edgecolor='k')\n",
    "plt.grid(True)\n",
    "plt.xlabel(\"Number of clusters\",fontsize=14)\n",
    "plt.ylabel(\"K-means score\",fontsize=15)\n",
    "plt.xticks([i for i in range(1,11)],fontsize=14)\n",
    "plt.yticks(fontsize=15)\n",
    "plt.show()"
   ]
  },
  {
   "cell_type": "code",
   "execution_count": 13,
   "metadata": {},
   "outputs": [],
   "source": [
    "#here we clearly say elbow is at 5, so we take k = 5\n",
    "\n",
    "#Unfortunately, we do not always have such clearly clustered data. This means that the elbow may not be clear and sharp.\n",
    "\n",
    "#for that time we go with another method called \"Silhouette Method\", we will explain clearly this below"
   ]
  },
  {
   "cell_type": "code",
   "execution_count": 14,
   "metadata": {},
   "outputs": [],
   "source": [
    "#going with 5 clusters\n",
    "\n",
    "kmeans = KMeans(n_clusters =5 , init=\"k-means++\", max_iter=300, n_init=10, random_state=0)\n",
    "y_means = kmeans.fit_predict(X_scaled)\n"
   ]
  },
  {
   "cell_type": "code",
   "execution_count": 15,
   "metadata": {},
   "outputs": [
    {
     "data": {
      "image/png": "[encoded data removed]",
      "text/plain": [
       "<Figure size 432x288 with 1 Axes>"
      ]
     },
     "metadata": {
      "needs_background": "light"
     },
     "output_type": "display_data"
    }
   ],
   "source": [
    "plt.scatter(X_scaled[y_means == 0 ,0], X_scaled[y_means == 0,1] , s=100 , c='red' , label='Cluster 1')\n",
    "plt.scatter(X_scaled[y_means == 1 ,0], X_scaled[y_means == 1,1] , s=100 , c='blue' , label='Cluster 2')\n",
    "plt.scatter(X_scaled[y_means == 2 ,0], X_scaled[y_means == 2,1] , s=100 , c='green' , label='Cluster 3')\n",
    "plt.scatter(X_scaled[y_means == 3 ,0], X_scaled[y_means == 3,1] , s=100 , c='cyan' , label='Cluster 4')\n",
    "plt.scatter(X_scaled[y_means == 4 ,0], X_scaled[y_means == 4,1] , s=100 , c='magenta' , label='Cluster 5')\n",
    "plt.scatter(kmeans.cluster_centers_[: , 0], kmeans.cluster_centers_[:,1] , s =300 , c='yellow' , label = 'Centroids')\n",
    "plt.title(\"Clusters of Clients\")\n",
    "plt.xlabel('Annual Income')\n",
    "plt.ylabel('Spending Score')\n",
    "plt.legend()\n",
    "plt.show()"
   ]
  },
  {
   "cell_type": "code",
   "execution_count": 16,
   "metadata": {},
   "outputs": [],
   "source": [
    "#like this we will get our cluesters"
   ]
  },
  {
   "cell_type": "markdown",
   "metadata": {},
   "source": [
    "# Silhouette Method"
   ]
  },
  {
   "cell_type": "markdown",
   "metadata": {},
   "source": [
    "The silhouette value measures how similar a point is to its own cluster (cohesion) compared to other clusters (separation)."
   ]
  },
  {
   "cell_type": "markdown",
   "metadata": {},
   "source": [
    "The range of the Silhouette value is between +1 and -1. A high value is desirable and indicates that the point is placed in the correct cluster. If many points have a negative Silhouette value, it may indicate that we have created too many or too few clusters.\n",
    "The Silhouette Value s(i) for each data point i is defined as follows:\n",
    "\n",
    " \n",
    "       s(i)=b(i)-a(i)/max{a(i),b(i)},if modulus ci>1\n",
    "        \n",
    "        and\n",
    "        \n",
    "        \n",
    "        s(i)=0 if modulus of c(i) = 1\n"
   ]
  },
  {
   "cell_type": "code",
   "execution_count": 17,
   "metadata": {},
   "outputs": [],
   "source": [
    "#simply a(i) is intra-cluster distance and b(i) is mean nearest-cluester distance\n",
    "\n",
    "\n",
    "#and if s(i) value is more then cluesters are good, and if it is low then we neeed to change the number of cluersters\n",
    "\n",
    "\n",
    "#and a(i) >> b(i) not good, a(i) << b(i) is good"
   ]
  },
  {
   "cell_type": "markdown",
   "metadata": {},
   "source": [
    "Note: s(i) is defined to be equal to zero if i is the only point in the cluster. This is to prevent the number of clusters from increasing significantly with many single-point clusters.\n",
    "Here, a(i) is the measure of similarity of the point i to its own cluster. It is measured as the average distance of i from other points in the cluster.\n",
    "\n",
    " \n"
   ]
  },
  {
   "cell_type": "code",
   "execution_count": 18,
   "metadata": {},
   "outputs": [
    {
     "data": {
      "image/png": "[encoded data removed]",
      "text/plain": [
       "<Figure size 504x288 with 1 Axes>"
      ]
     },
     "metadata": {
      "needs_background": "light"
     },
     "output_type": "display_data"
    }
   ],
   "source": [
    "plt.figure(figsize=(7,4))\n",
    "plt.title(\"The silhouette coefficient method \\nfor determining number of clusters\\n\",fontsize=16)\n",
    "plt.scatter(x=[i for i in range(2,12)],y=km_silhouette,s=150,edgecolor='k')\n",
    "plt.grid(True)\n",
    "plt.xlabel(\"Number of clusters\",fontsize=14)\n",
    "plt.ylabel(\"Silhouette score\",fontsize=15)\n",
    "plt.xticks([i for i in range(1,11)],fontsize=14)\n",
    "plt.yticks(fontsize=15)\n",
    "plt.show()"
   ]
  },
  {
   "cell_type": "code",
   "execution_count": 19,
   "metadata": {},
   "outputs": [],
   "source": [
    "#see for value 5, the more sihouette score so select k as 5"
   ]
  },
  {
   "cell_type": "markdown",
   "metadata": {},
   "source": [
    "this is alll about K-means\n",
    "\n",
    "next comingup with different cluesteribg algorithams like 'HC', stay tuned"
   ]
  },
  {
   "cell_type": "code",
   "execution_count": null,
   "metadata": {},
   "outputs": [],
   "source": []
  }
 ],
 "metadata": {
  "kernelspec": {
   "display_name": "Python 3",
   "language": "python",
   "name": "python3"
  },
  "language_info": {
   "codemirror_mode": {
    "name": "ipython",
    "version": 3
   },
   "file_extension": ".py",
   "mimetype": "text/x-python",
   "name": "python",
   "nbconvert_exporter": "python",
   "pygments_lexer": "ipython3",
   "version": "3.7.4"
  }
 },
 "nbformat": 4,
 "nbformat_minor": 2
}
